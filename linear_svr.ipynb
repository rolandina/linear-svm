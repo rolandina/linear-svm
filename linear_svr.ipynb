{
 "cells": [
  {
   "cell_type": "markdown",
   "metadata": {
    "toc": true
   },
   "source": [
    "<h1>Table of Contents<span class=\"tocSkip\"></span></h1>\n",
    "<div class=\"toc\"><ul class=\"toc-item\"></ul></div>"
   ]
  },
  {
   "cell_type": "code",
   "execution_count": 18,
   "metadata": {},
   "outputs": [],
   "source": [
    "import pandas as pd\n",
    "import seaborn as sns\n",
    "import matplotlib.pyplot as plt\n",
    "import numpy as np\n",
    "\n",
    "#preprocessing and model selection\n",
    "from sklearn.preprocessing import OneHotEncoder, LabelEncoder\n",
    "from sklearn.model_selection import GridSearchCV, RandomizedSearchCV, RepeatedKFold, train_test_split, cross_val_score\n",
    "\n",
    "#regression model metrics\n",
    "from sklearn.metrics import mean_squared_error, r2_score\n",
    "\n",
    "#regression models\n",
    "from sklearn.svm import LinearSVR\n"
   ]
  },
  {
   "cell_type": "code",
   "execution_count": 126,
   "metadata": {},
   "outputs": [],
   "source": [
    "path = 'https://simplonline-v3-prod.s3.eu-west-3.amazonaws.com/media/file/csv/bdfc59ed-c3c7-48ac-a3d3-9e54663f6c1d.csv'\n",
    "target = 'SalePrice'\n",
    "df = pd.read_csv(path)\n",
    "df = df[[\"OverallQual\",\"GrLivArea\", 'Neighborhood',\"SalePrice\"]]\n",
    "df.head()\n",
    "\n",
    "\n",
    "X = df.drop(columns = [target])\n",
    "y = df[target]"
   ]
  },
  {
   "cell_type": "code",
   "execution_count": 127,
   "metadata": {},
   "outputs": [
    {
     "name": "stdout",
     "output_type": "stream",
     "text": [
      "Index(['OverallQual', 'GrLivArea'], dtype='object')\n",
      "Index(['Neighborhood'], dtype='object')\n"
     ]
    }
   ],
   "source": [
    "from sklearn.pipeline import Pipeline\n",
    "from sklearn.impute import SimpleImputer\n",
    "from sklearn.preprocessing import StandardScaler, OneHotEncoder\n",
    "from sklearn.preprocessing import PolynomialFeatures\n",
    "from sklearn.compose import ColumnTransformer\n",
    "\n",
    "numeric_transformer = Pipeline(\n",
    "    steps=[('imputer',SimpleImputer(strategy='mean')),\n",
    "           ('scaler', StandardScaler())])\n",
    "\n",
    "categorical_transformer = Pipeline(\n",
    "    steps=[('imputer', SimpleImputer(strategy='constant', fill_value='missing')\n",
    "            ), ('onehot', OneHotEncoder(handle_unknown='ignore'))])\n",
    "\n",
    "\n",
    "numeric_features = df.select_dtypes(include=['int64', 'float64']).drop(columns = [target]).columns\n",
    "categorical_features = df.select_dtypes(include=['object']).columns\n",
    "\n",
    "print(numeric_features)\n",
    "print(categorical_features)"
   ]
  },
  {
   "cell_type": "code",
   "execution_count": 145,
   "metadata": {},
   "outputs": [
    {
     "name": "stdout",
     "output_type": "stream",
     "text": [
      "(1460,)\n",
      "(1095, 1)\n"
     ]
    }
   ],
   "source": [
    "import numpy as np\n",
    "preprocessor = ColumnTransformer(\n",
    "    transformers=[\n",
    "        ('num', numeric_transformer, numeric_features),\n",
    "        ('cat', categorical_transformer, categorical_features)\n",
    "    ])\n",
    "\n",
    "#numeric_features = df.select_dtypes(include=['int64', 'float64'])#.drop(columns = [target]).columns\n",
    "\n",
    "lsvr = Pipeline(steps=[('preprocessor', preprocessor),                       \n",
    "                      ('regressor', LinearSVR())])\n",
    "\n",
    "\n",
    "print(y.shape)\n",
    "y1 = y\n",
    "y_reshaped = y1.values.reshape(-1, 1)\n",
    "y_scaler = StandardScaler()\n",
    "y_scaler.fit(y_reshaped)\n",
    "\n",
    "\n",
    "\n",
    "X_train, X_test, y_train, y_test = train_test_split(X,\n",
    "                                                    y,\n",
    "                                                    test_size=0.25,\n",
    "                                                    random_state=1)\n",
    "\n",
    "y_train = y_scaler.transform(y_train.values.reshape(-1,1))\n",
    "y_test = y_scaler.transform(y_test.values.reshape(-1,1))\n",
    "print(y_train.shape)"
   ]
  },
  {
   "cell_type": "code",
   "execution_count": null,
   "metadata": {},
   "outputs": [],
   "source": []
  },
  {
   "cell_type": "code",
   "execution_count": 146,
   "metadata": {},
   "outputs": [],
   "source": [
    "paramsLinearSVR = \\\n",
    "{\n",
    " 'regressor__C': [float(i)*0.1+0.1 for i in range(100)],\n",
    " #'dual': [True],\n",
    " #'epsilon': [0.0],\n",
    " #'fit_intercept': [True],\n",
    " #'intercept_scaling': [1.0],\n",
    " #'loss': ['epsilon_insensitive'],\n",
    " 'regressor__max_iter': [ 1000*float(i+1) for i in range(10)],\n",
    " #'random_state': [None],\n",
    " 'regressor__tol': [0.01],\n",
    " #'verbose': [0],\n",
    "\n",
    "}\n",
    "\n"
   ]
  },
  {
   "cell_type": "code",
   "execution_count": 147,
   "metadata": {},
   "outputs": [],
   "source": [
    "cv1 = RepeatedKFold(n_splits=10, n_repeats=4, random_state=1)\n",
    "\n",
    "Grid = RandomizedSearchCV(lsvr, paramsLinearSVR, n_iter = 20, scoring='r2', cv=cv1)\n",
    "Grid.fit(X, y)\n",
    "best_model = Grid.best_estimator_\n",
    "#show_classification_model_metrics(best_model, X_test, y_test)"
   ]
  },
  {
   "cell_type": "code",
   "execution_count": 148,
   "metadata": {},
   "outputs": [
    {
     "name": "stdout",
     "output_type": "stream",
     "text": [
      "R squarred :-223768366.18200096\n"
     ]
    }
   ],
   "source": [
    "print(f\"R squarred :{best_model.score(X_test, y_test)}\")\n",
    "#print(f\"\\n OverallQual coef : {best_model.coef_[0]}\\n GrLivArea coef : {best_model.coef_[1]}\\n intercept : {best_model.intercept_}\")\n"
   ]
  },
  {
   "cell_type": "code",
   "execution_count": null,
   "metadata": {},
   "outputs": [],
   "source": [
    "y_pred = y_scaler.inverse_transform(lsvr.predict(X_test))\n"
   ]
  },
  {
   "cell_type": "code",
   "execution_count": null,
   "metadata": {},
   "outputs": [],
   "source": []
  }
 ],
 "metadata": {
  "kernelspec": {
   "display_name": "Python 3",
   "language": "python",
   "name": "python3"
  },
  "language_info": {
   "codemirror_mode": {
    "name": "ipython",
    "version": 3
   },
   "file_extension": ".py",
   "mimetype": "text/x-python",
   "name": "python",
   "nbconvert_exporter": "python",
   "pygments_lexer": "ipython3",
   "version": "3.8.5"
  },
  "toc": {
   "base_numbering": 1,
   "nav_menu": {},
   "number_sections": true,
   "sideBar": true,
   "skip_h1_title": true,
   "title_cell": "Table of Contents",
   "title_sidebar": "Contents",
   "toc_cell": true,
   "toc_position": {},
   "toc_section_display": true,
   "toc_window_display": false
  }
 },
 "nbformat": 4,
 "nbformat_minor": 4
}
