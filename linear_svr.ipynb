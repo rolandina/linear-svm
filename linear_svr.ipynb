{
 "cells": [
  {
   "cell_type": "markdown",
   "metadata": {
    "toc": true
   },
   "source": [
    "<h1>Table of Contents<span class=\"tocSkip\"></span></h1>\n",
    "<div class=\"toc\"><ul class=\"toc-item\"><li><span><a href=\"#Get-and-prepare-dataset\" data-toc-modified-id=\"Get-and-prepare-dataset-1\"><span class=\"toc-item-num\">1&nbsp;&nbsp;</span>Get and prepare dataset</a></span></li><li><span><a href=\"#Build-and-train-the-model\" data-toc-modified-id=\"Build-and-train-the-model-2\"><span class=\"toc-item-num\">2&nbsp;&nbsp;</span>Build and train the model</a></span><ul class=\"toc-item\"><li><span><a href=\"#Scale-target\" data-toc-modified-id=\"Scale-target-2.1\"><span class=\"toc-item-num\">2.1&nbsp;&nbsp;</span>Scale target</a></span></li><li><span><a href=\"#Split-data-set\" data-toc-modified-id=\"Split-data-set-2.2\"><span class=\"toc-item-num\">2.2&nbsp;&nbsp;</span>Split data set</a></span></li><li><span><a href=\"#Adjust-the-parameters-of-the-model\" data-toc-modified-id=\"Adjust-the-parameters-of-the-model-2.3\"><span class=\"toc-item-num\">2.3&nbsp;&nbsp;</span>Adjust the parameters of the model</a></span></li><li><span><a href=\"#Train-model\" data-toc-modified-id=\"Train-model-2.4\"><span class=\"toc-item-num\">2.4&nbsp;&nbsp;</span>Train model</a></span></li><li><span><a href=\"#Check-the-parameters-of-the-best-model\" data-toc-modified-id=\"Check-the-parameters-of-the-best-model-2.5\"><span class=\"toc-item-num\">2.5&nbsp;&nbsp;</span>Check the parameters of the best model</a></span></li></ul></li><li><span><a href=\"#Results\" data-toc-modified-id=\"Results-3\"><span class=\"toc-item-num\">3&nbsp;&nbsp;</span>Results</a></span></li></ul></div>"
   ]
  },
  {
   "cell_type": "code",
   "execution_count": 1,
   "metadata": {},
   "outputs": [],
   "source": [
    "#import all libraries\n",
    "import pandas as pd\n",
    "import seaborn as sns\n",
    "import matplotlib.pyplot as plt\n",
    "import numpy as np\n",
    "\n",
    "#preprocessing and model selection\n",
    "from sklearn.impute import SimpleImputer\n",
    "from sklearn.preprocessing import OneHotEncoder, LabelEncoder, StandardScaler\n",
    "from sklearn.compose import ColumnTransformer\n",
    "from sklearn.pipeline import Pipeline\n",
    "from sklearn.model_selection import GridSearchCV, RandomizedSearchCV, RepeatedKFold, train_test_split, cross_val_score\n",
    "\n",
    "#regression model metrics\n",
    "from sklearn.metrics import mean_squared_error, r2_score\n",
    "\n",
    "#regression models\n",
    "from sklearn.svm import LinearSVR"
   ]
  },
  {
   "cell_type": "markdown",
   "metadata": {},
   "source": [
    "## Get and prepare dataset"
   ]
  },
  {
   "cell_type": "code",
   "execution_count": 2,
   "metadata": {},
   "outputs": [],
   "source": [
    "#download the dataset take 4 columns by the link\n",
    "path = 'https://simplonline-v3-prod.s3.eu-west-3.amazonaws.com/media/file/csv/bdfc59ed-c3c7-48ac-a3d3-9e54663f6c1d.csv'\n",
    "target = 'SalePrice'\n",
    "df = pd.read_csv(path)\n",
    "df = df[[\"OverallQual\",\"GrLivArea\", 'Neighborhood', \"SalePrice\"]]"
   ]
  },
  {
   "cell_type": "code",
   "execution_count": 3,
   "metadata": {},
   "outputs": [
    {
     "name": "stdout",
     "output_type": "stream",
     "text": [
      "<class 'pandas.core.frame.DataFrame'>\n",
      "RangeIndex: 1460 entries, 0 to 1459\n",
      "Data columns (total 4 columns):\n",
      " #   Column        Non-Null Count  Dtype \n",
      "---  ------        --------------  ----- \n",
      " 0   OverallQual   1460 non-null   int64 \n",
      " 1   GrLivArea     1460 non-null   int64 \n",
      " 2   Neighborhood  1460 non-null   object\n",
      " 3   SalePrice     1460 non-null   int64 \n",
      "dtypes: int64(3), object(1)\n",
      "memory usage: 45.8+ KB\n"
     ]
    }
   ],
   "source": [
    "#check the dataset\n",
    "df.info()"
   ]
  },
  {
   "cell_type": "code",
   "execution_count": 4,
   "metadata": {},
   "outputs": [],
   "source": [
    "#separate target from features\n",
    "X = df.drop(columns = [target])\n",
    "y = df[[target]]"
   ]
  },
  {
   "cell_type": "markdown",
   "metadata": {},
   "source": [
    "## Build and train the model"
   ]
  },
  {
   "cell_type": "code",
   "execution_count": 5,
   "metadata": {},
   "outputs": [],
   "source": [
    "#create Pipeline with transformation + model\n",
    "\n",
    "numeric_transformer = Pipeline(steps=[('imputer', SimpleImputer(\n",
    "    strategy='mean')), ('scaler', StandardScaler())])\n",
    "\n",
    "categorical_transformer = Pipeline(\n",
    "    steps=[('imputer', SimpleImputer(strategy='constant', fill_value='missing')\n",
    "            ), ('onehot', OneHotEncoder(handle_unknown='ignore'))])\n",
    "\n",
    "numeric_features = df.select_dtypes(include=['int64', 'float64']).drop(\n",
    "    columns=[target]).columns\n",
    "categorical_features = df.select_dtypes(include=['object']).columns\n",
    "\n",
    "\n",
    "preprocessor = ColumnTransformer(\n",
    "    transformers=[\n",
    "        ('num', numeric_transformer, numeric_features),\n",
    "        ('cat', categorical_transformer, categorical_features),\n",
    "    ])\n",
    "\n",
    "lsvr = Pipeline(steps=[('preprocessor', preprocessor),                       \n",
    "                      ('regressor', LinearSVR())])"
   ]
  },
  {
   "cell_type": "markdown",
   "metadata": {},
   "source": [
    "### Scale target"
   ]
  },
  {
   "cell_type": "code",
   "execution_count": 6,
   "metadata": {},
   "outputs": [],
   "source": [
    "y_scaler = StandardScaler() #(n,1)\n",
    "y_scaler.fit(y) # mean, std ->\n",
    "y = y_scaler.transform(y)"
   ]
  },
  {
   "cell_type": "markdown",
   "metadata": {},
   "source": [
    "### Split data set"
   ]
  },
  {
   "cell_type": "code",
   "execution_count": 7,
   "metadata": {},
   "outputs": [],
   "source": [
    "#split data set on test and train data\n",
    "X_train, X_test, y_train, y_test = train_test_split(X,\n",
    "                                                    y.ravel(),\n",
    "                                                    test_size=0.25,\n",
    "                                                    random_state=1)"
   ]
  },
  {
   "cell_type": "markdown",
   "metadata": {},
   "source": [
    "### Adjust the parameters of the model "
   ]
  },
  {
   "cell_type": "code",
   "execution_count": 8,
   "metadata": {},
   "outputs": [],
   "source": [
    "#parameters for pipeline model\n",
    "paramsLinearSVR = \\\n",
    "{\n",
    " 'regressor__C': [float(i)*0.1+0.1 for i in range(100)],\n",
    " #'regressor__dual': [True],\n",
    " #'regressor__epsilon': [0.0],\n",
    " #'regressor__fit_intercept': [True],\n",
    " #'regressor__intercept_scaling': [1.0],\n",
    " #'regressor__loss': ['epsilon_insensitive'],\n",
    " 'regressor__max_iter': [ 1000*float(i+1) for i in range(10)],\n",
    " #'regressor__random_state': [19],\n",
    " 'regressor__tol': [0.01],\n",
    " #'regressor__verbose': [0],\n",
    "\n",
    "}"
   ]
  },
  {
   "cell_type": "markdown",
   "metadata": {},
   "source": [
    "### Train model "
   ]
  },
  {
   "cell_type": "code",
   "execution_count": 13,
   "metadata": {},
   "outputs": [],
   "source": [
    "#cross validation\n",
    "cv1 = RepeatedKFold(n_splits=10, n_repeats=4, random_state=1)\n",
    "\n",
    "Grid = RandomizedSearchCV(lsvr, paramsLinearSVR, n_iter = 40, scoring='r2', cv=cv1)\n",
    "Grid.fit(X_train, y_train.ravel()) #(n,1) -> (n,)\n",
    "best_model = Grid.best_estimator_\n"
   ]
  },
  {
   "cell_type": "code",
   "execution_count": 14,
   "metadata": {},
   "outputs": [
    {
     "data": {
      "text/plain": [
       "{'mean_fit_time': array([0.02084766, 0.01841243, 0.01838323, 0.02633955, 0.02292137,\n",
       "        0.01382035, 0.01888255, 0.01759245, 0.03151203, 0.02440103,\n",
       "        0.02120409, 0.01916854, 0.02470824, 0.03841568, 0.02992397,\n",
       "        0.03335134, 0.02252833, 0.01386709, 0.01722429, 0.02679611]),\n",
       " 'std_fit_time': array([0.0014461 , 0.0017893 , 0.0033024 , 0.00312222, 0.00222872,\n",
       "        0.00225789, 0.00163992, 0.00307288, 0.0035317 , 0.0031009 ,\n",
       "        0.00329123, 0.00287429, 0.00312441, 0.0041694 , 0.00310605,\n",
       "        0.00223156, 0.00092524, 0.00084207, 0.00295884, 0.00269726]),\n",
       " 'mean_score_time': array([0.00544676, 0.00535819, 0.0083885 , 0.00643008, 0.00616453,\n",
       "        0.00517691, 0.00529023, 0.00613897, 0.00814013, 0.00847656,\n",
       "        0.00844424, 0.00813314, 0.01020152, 0.00988169, 0.00833654,\n",
       "        0.00772625, 0.00729681, 0.00689753, 0.00753252, 0.00745644]),\n",
       " 'std_score_time': array([0.00079686, 0.00188801, 0.01381986, 0.00139698, 0.00136875,\n",
       "        0.00078323, 0.0008964 , 0.00133795, 0.00086113, 0.00121516,\n",
       "        0.00167131, 0.00158294, 0.00137655, 0.00117994, 0.00129021,\n",
       "        0.00084796, 0.00043701, 0.00056354, 0.00150086, 0.00072686]),\n",
       " 'param_regressor__tol': masked_array(data=[0.01, 0.01, 0.01, 0.01, 0.01, 0.01, 0.01, 0.01, 0.01,\n",
       "                    0.01, 0.01, 0.01, 0.01, 0.01, 0.01, 0.01, 0.01, 0.01,\n",
       "                    0.01, 0.01],\n",
       "              mask=[False, False, False, False, False, False, False, False,\n",
       "                    False, False, False, False, False, False, False, False,\n",
       "                    False, False, False, False],\n",
       "        fill_value='?',\n",
       "             dtype=object),\n",
       " 'param_regressor__max_iter': masked_array(data=[10000.0, 8000.0, 10000.0, 1000.0, 1000.0, 1000.0,\n",
       "                    2000.0, 5000.0, 10000.0, 5000.0, 3000.0, 9000.0,\n",
       "                    4000.0, 2000.0, 3000.0, 4000.0, 6000.0, 9000.0, 5000.0,\n",
       "                    3000.0],\n",
       "              mask=[False, False, False, False, False, False, False, False,\n",
       "                    False, False, False, False, False, False, False, False,\n",
       "                    False, False, False, False],\n",
       "        fill_value='?',\n",
       "             dtype=object),\n",
       " 'param_regressor__C': masked_array(data=[8.7, 7.0, 4.3999999999999995, 9.2, 8.4,\n",
       "                    2.8000000000000003, 6.8, 3.8000000000000003, 7.8, 4.0,\n",
       "                    2.6, 1.8000000000000003, 2.1, 8.2, 7.3, 9.8, 4.9, 0.5,\n",
       "                    1.5000000000000002, 6.3],\n",
       "              mask=[False, False, False, False, False, False, False, False,\n",
       "                    False, False, False, False, False, False, False, False,\n",
       "                    False, False, False, False],\n",
       "        fill_value='?',\n",
       "             dtype=object),\n",
       " 'params': [{'regressor__tol': 0.01,\n",
       "   'regressor__max_iter': 10000.0,\n",
       "   'regressor__C': 8.7},\n",
       "  {'regressor__tol': 0.01, 'regressor__max_iter': 8000.0, 'regressor__C': 7.0},\n",
       "  {'regressor__tol': 0.01,\n",
       "   'regressor__max_iter': 10000.0,\n",
       "   'regressor__C': 4.3999999999999995},\n",
       "  {'regressor__tol': 0.01, 'regressor__max_iter': 1000.0, 'regressor__C': 9.2},\n",
       "  {'regressor__tol': 0.01, 'regressor__max_iter': 1000.0, 'regressor__C': 8.4},\n",
       "  {'regressor__tol': 0.01,\n",
       "   'regressor__max_iter': 1000.0,\n",
       "   'regressor__C': 2.8000000000000003},\n",
       "  {'regressor__tol': 0.01, 'regressor__max_iter': 2000.0, 'regressor__C': 6.8},\n",
       "  {'regressor__tol': 0.01,\n",
       "   'regressor__max_iter': 5000.0,\n",
       "   'regressor__C': 3.8000000000000003},\n",
       "  {'regressor__tol': 0.01,\n",
       "   'regressor__max_iter': 10000.0,\n",
       "   'regressor__C': 7.8},\n",
       "  {'regressor__tol': 0.01, 'regressor__max_iter': 5000.0, 'regressor__C': 4.0},\n",
       "  {'regressor__tol': 0.01, 'regressor__max_iter': 3000.0, 'regressor__C': 2.6},\n",
       "  {'regressor__tol': 0.01,\n",
       "   'regressor__max_iter': 9000.0,\n",
       "   'regressor__C': 1.8000000000000003},\n",
       "  {'regressor__tol': 0.01, 'regressor__max_iter': 4000.0, 'regressor__C': 2.1},\n",
       "  {'regressor__tol': 0.01, 'regressor__max_iter': 2000.0, 'regressor__C': 8.2},\n",
       "  {'regressor__tol': 0.01, 'regressor__max_iter': 3000.0, 'regressor__C': 7.3},\n",
       "  {'regressor__tol': 0.01, 'regressor__max_iter': 4000.0, 'regressor__C': 9.8},\n",
       "  {'regressor__tol': 0.01, 'regressor__max_iter': 6000.0, 'regressor__C': 4.9},\n",
       "  {'regressor__tol': 0.01, 'regressor__max_iter': 9000.0, 'regressor__C': 0.5},\n",
       "  {'regressor__tol': 0.01,\n",
       "   'regressor__max_iter': 5000.0,\n",
       "   'regressor__C': 1.5000000000000002},\n",
       "  {'regressor__tol': 0.01,\n",
       "   'regressor__max_iter': 3000.0,\n",
       "   'regressor__C': 6.3}],\n",
       " 'split0_test_score': array([0.65240206, 0.65425717, 0.65969527, 0.6577751 , 0.65542437,\n",
       "        0.66080141, 0.65954834, 0.6602359 , 0.65985406, 0.65981351,\n",
       "        0.65455683, 0.65057239, 0.65722318, 0.66016637, 0.6612199 ,\n",
       "        0.65453091, 0.65193505, 0.65387667, 0.66013658, 0.6518436 ]),\n",
       " 'split1_test_score': array([0.80534921, 0.81534666, 0.81627891, 0.8129591 , 0.79751074,\n",
       "        0.81530092, 0.80726577, 0.80393052, 0.80749219, 0.8056363 ,\n",
       "        0.81154544, 0.80890267, 0.81326159, 0.80596767, 0.8044178 ,\n",
       "        0.80839092, 0.81607335, 0.79606418, 0.81010923, 0.81140266]),\n",
       " 'split2_test_score': array([0.69486583, 0.69339639, 0.6864757 , 0.69081956, 0.69946712,\n",
       "        0.68697788, 0.69441306, 0.69714461, 0.69138792, 0.69024502,\n",
       "        0.691792  , 0.69471516, 0.69494178, 0.69151382, 0.68522833,\n",
       "        0.6968177 , 0.69091278, 0.69755176, 0.70158271, 0.6948829 ]),\n",
       " 'split3_test_score': array([0.76622333, 0.7629198 , 0.76616943, 0.7669076 , 0.76229433,\n",
       "        0.76470838, 0.75760394, 0.76116222, 0.76218077, 0.75866287,\n",
       "        0.76435603, 0.76442584, 0.76122136, 0.7631028 , 0.76705709,\n",
       "        0.76350843, 0.76080197, 0.76535169, 0.76921618, 0.76686547]),\n",
       " 'split4_test_score': array([0.78079502, 0.78225869, 0.786496  , 0.78210065, 0.78255432,\n",
       "        0.78634316, 0.78583073, 0.78786994, 0.78716638, 0.78384332,\n",
       "        0.78588147, 0.79122045, 0.79472832, 0.77758492, 0.77837804,\n",
       "        0.78555426, 0.78916193, 0.78772063, 0.78042548, 0.79391318]),\n",
       " 'split5_test_score': array([0.7894768 , 0.78718719, 0.78948661, 0.79269366, 0.787433  ,\n",
       "        0.79087236, 0.78222818, 0.78769991, 0.79250656, 0.79476626,\n",
       "        0.78523946, 0.78932541, 0.7878941 , 0.7938604 , 0.79192408,\n",
       "        0.78372196, 0.78903536, 0.78852965, 0.78005846, 0.77853137]),\n",
       " 'split6_test_score': array([0.78141921, 0.79193813, 0.78794931, 0.79250531, 0.78830552,\n",
       "        0.78964806, 0.79168146, 0.78435965, 0.79219967, 0.7735853 ,\n",
       "        0.78027688, 0.77902872, 0.78645563, 0.78889609, 0.78965121,\n",
       "        0.77466647, 0.78607524, 0.77995767, 0.78636616, 0.76941231]),\n",
       " 'split7_test_score': array([0.6870472 , 0.68679161, 0.68613942, 0.68832202, 0.69046221,\n",
       "        0.68574142, 0.68634006, 0.68767817, 0.68982541, 0.68757933,\n",
       "        0.68807043, 0.68771345, 0.68642762, 0.68801796, 0.68457117,\n",
       "        0.68784151, 0.68132526, 0.68399926, 0.6876523 , 0.6884    ]),\n",
       " 'split8_test_score': array([0.80145197, 0.80304364, 0.79532931, 0.80130424, 0.80067422,\n",
       "        0.79767601, 0.80213784, 0.80763671, 0.80115576, 0.79104873,\n",
       "        0.80176226, 0.79495486, 0.79665529, 0.79103388, 0.80270122,\n",
       "        0.80427824, 0.79468942, 0.79981038, 0.79868384, 0.80560101]),\n",
       " 'split9_test_score': array([0.75972709, 0.76428534, 0.76161192, 0.76738842, 0.76129932,\n",
       "        0.75797003, 0.76874257, 0.77496532, 0.76742299, 0.76431936,\n",
       "        0.75943106, 0.76427528, 0.76692541, 0.76369988, 0.75789628,\n",
       "        0.76313554, 0.76464476, 0.76416438, 0.77099689, 0.77121125]),\n",
       " 'split10_test_score': array([0.74913212, 0.74844827, 0.75947625, 0.75442403, 0.74585672,\n",
       "        0.7568441 , 0.74597117, 0.75057888, 0.74721039, 0.75613739,\n",
       "        0.75299137, 0.75138765, 0.7503397 , 0.75511615, 0.76290521,\n",
       "        0.74580514, 0.7476928 , 0.74414591, 0.74776478, 0.75126033]),\n",
       " 'split11_test_score': array([0.77086912, 0.76844428, 0.76956431, 0.76647185, 0.77265016,\n",
       "        0.77259759, 0.76618633, 0.75002117, 0.76238211, 0.77540014,\n",
       "        0.76647955, 0.76753418, 0.77388902, 0.76598425, 0.77384252,\n",
       "        0.75533326, 0.77415582, 0.76913678, 0.76910863, 0.76937097]),\n",
       " 'split12_test_score': array([0.83337275, 0.83235213, 0.83515962, 0.83390909, 0.84002461,\n",
       "        0.83711256, 0.83472428, 0.8365673 , 0.82947817, 0.81779915,\n",
       "        0.83682183, 0.84270022, 0.83295697, 0.83697608, 0.8385209 ,\n",
       "        0.84011244, 0.83269504, 0.82750175, 0.82851147, 0.82671666]),\n",
       " 'split13_test_score': array([0.76497737, 0.7659712 , 0.76466677, 0.76333018, 0.765131  ,\n",
       "        0.76204784, 0.761991  , 0.76333432, 0.76223031, 0.76581884,\n",
       "        0.7559189 , 0.75966876, 0.7589536 , 0.76487708, 0.76471598,\n",
       "        0.75180372, 0.76394455, 0.76013212, 0.76242307, 0.76844381]),\n",
       " 'split14_test_score': array([0.76819875, 0.76927007, 0.7683062 , 0.76785239, 0.76787552,\n",
       "        0.77484397, 0.76745352, 0.77071596, 0.76919595, 0.77009499,\n",
       "        0.76811103, 0.76978073, 0.76897523, 0.76676218, 0.7683493 ,\n",
       "        0.76981946, 0.77018723, 0.76484737, 0.76714867, 0.76927403]),\n",
       " 'split15_test_score': array([0.795825  , 0.7957696 , 0.78817716, 0.79006301, 0.79900433,\n",
       "        0.80051244, 0.78391645, 0.79025705, 0.79042379, 0.78412114,\n",
       "        0.78618943, 0.79588783, 0.7719524 , 0.79548991, 0.78990551,\n",
       "        0.78318925, 0.78818862, 0.77780223, 0.78884955, 0.77500195]),\n",
       " 'split16_test_score': array([0.77415385, 0.77419464, 0.7661874 , 0.77676216, 0.77616649,\n",
       "        0.77708778, 0.77575924, 0.77162407, 0.77918605, 0.76496586,\n",
       "        0.77268511, 0.77150309, 0.76922491, 0.77417204, 0.7790383 ,\n",
       "        0.77627665, 0.77167515, 0.76636   , 0.75889359, 0.771684  ]),\n",
       " 'split17_test_score': array([0.78149073, 0.77877275, 0.78221377, 0.79052211, 0.78798109,\n",
       "        0.78732171, 0.7938348 , 0.77735541, 0.78459478, 0.78708188,\n",
       "        0.77738266, 0.78233877, 0.78029951, 0.77694367, 0.78813932,\n",
       "        0.78109713, 0.78291192, 0.77566914, 0.78792992, 0.7842235 ]),\n",
       " 'split18_test_score': array([0.59433284, 0.55127597, 0.55192096, 0.57864447, 0.55525273,\n",
       "        0.57970682, 0.57056068, 0.54526965, 0.56027956, 0.54567408,\n",
       "        0.56669227, 0.56832958, 0.57459472, 0.57112981, 0.56689106,\n",
       "        0.5756287 , 0.55960114, 0.56596142, 0.54968698, 0.54599882]),\n",
       " 'split19_test_score': array([0.704646  , 0.69754798, 0.70828912, 0.70024973, 0.71111475,\n",
       "        0.70681139, 0.70256339, 0.71075909, 0.70280728, 0.70710892,\n",
       "        0.70634894, 0.70218003, 0.70543464, 0.7114676 , 0.70602429,\n",
       "        0.70076315, 0.70358918, 0.70588001, 0.70831072, 0.70706673]),\n",
       " 'split20_test_score': array([0.7425701 , 0.73666013, 0.7376167 , 0.74229452, 0.74106345,\n",
       "        0.73865544, 0.74345651, 0.74304008, 0.74155874, 0.74227711,\n",
       "        0.73779563, 0.73894781, 0.73691015, 0.74392239, 0.74251489,\n",
       "        0.74050152, 0.74149207, 0.73096683, 0.7446385 , 0.74070676]),\n",
       " 'split21_test_score': array([0.72951913, 0.73009704, 0.73359625, 0.73391882, 0.7354283 ,\n",
       "        0.73288923, 0.73779681, 0.73089953, 0.73434046, 0.73385042,\n",
       "        0.73252642, 0.73395791, 0.73057158, 0.72484362, 0.73388361,\n",
       "        0.72994599, 0.73390233, 0.72802953, 0.73234032, 0.73092112]),\n",
       " 'split22_test_score': array([0.73282182, 0.74598073, 0.73220379, 0.74109032, 0.73555653,\n",
       "        0.74004584, 0.73892182, 0.73897499, 0.7367783 , 0.73708224,\n",
       "        0.73569429, 0.73207488, 0.73405215, 0.74483997, 0.7336785 ,\n",
       "        0.73586807, 0.73852013, 0.7355207 , 0.73488472, 0.73639607]),\n",
       " 'split23_test_score': array([0.72108648, 0.69451684, 0.70815277, 0.71887318, 0.72393184,\n",
       "        0.72386449, 0.72601593, 0.71376863, 0.71537884, 0.72400147,\n",
       "        0.7144899 , 0.70325163, 0.69739222, 0.70156066, 0.71309447,\n",
       "        0.72378954, 0.71376957, 0.70604988, 0.71404785, 0.70973708]),\n",
       " 'split24_test_score': array([0.76906251, 0.77046588, 0.77235045, 0.77646879, 0.77592719,\n",
       "        0.76243547, 0.77486227, 0.77139419, 0.78181751, 0.77140346,\n",
       "        0.76361287, 0.7682816 , 0.77484715, 0.77566074, 0.76022563,\n",
       "        0.76501507, 0.78082099, 0.77433146, 0.77190112, 0.76454186]),\n",
       " 'split25_test_score': array([0.73755209, 0.74365386, 0.73304506, 0.72456551, 0.72782216,\n",
       "        0.74648825, 0.73683642, 0.73468142, 0.73828822, 0.73410306,\n",
       "        0.72448898, 0.72739078, 0.7334687 , 0.72292092, 0.72653563,\n",
       "        0.73531692, 0.73381098, 0.72970684, 0.7410396 , 0.74369267]),\n",
       " 'split26_test_score': array([0.77591789, 0.77215986, 0.77125119, 0.77691624, 0.77707223,\n",
       "        0.78104372, 0.78421504, 0.77762539, 0.77009327, 0.7746049 ,\n",
       "        0.78107022, 0.76210748, 0.7677034 , 0.7810775 , 0.77872501,\n",
       "        0.78330268, 0.78188314, 0.77949966, 0.77803467, 0.76935134]),\n",
       " 'split27_test_score': array([0.77589271, 0.78390305, 0.78136978, 0.78156267, 0.77696424,\n",
       "        0.7867819 , 0.78414915, 0.77927876, 0.77549173, 0.78746919,\n",
       "        0.78529751, 0.78493454, 0.78253755, 0.77679291, 0.78704238,\n",
       "        0.7791456 , 0.77440425, 0.77950095, 0.78018612, 0.77895711]),\n",
       " 'split28_test_score': array([0.674314  , 0.68090583, 0.6718827 , 0.68455493, 0.6687434 ,\n",
       "        0.67408481, 0.67101788, 0.67673672, 0.67756274, 0.67613492,\n",
       "        0.67667127, 0.66884311, 0.67812363, 0.67594616, 0.67949475,\n",
       "        0.68129237, 0.67408561, 0.6683812 , 0.67697369, 0.67710585]),\n",
       " 'split29_test_score': array([0.83484363, 0.83313229, 0.83073736, 0.83038042, 0.82826927,\n",
       "        0.83195707, 0.83149249, 0.82820889, 0.83431461, 0.8298312 ,\n",
       "        0.83425406, 0.83114715, 0.83156747, 0.8331044 , 0.83037764,\n",
       "        0.82875638, 0.82967289, 0.83195084, 0.83167539, 0.82721574]),\n",
       " 'split30_test_score': array([0.76415433, 0.75812252, 0.75994763, 0.76707845, 0.76756802,\n",
       "        0.76008395, 0.74952548, 0.77398349, 0.76931898, 0.76602859,\n",
       "        0.76033963, 0.76424288, 0.76801301, 0.75829524, 0.77471544,\n",
       "        0.7655999 , 0.75550891, 0.76529966, 0.75762148, 0.7684445 ]),\n",
       " 'split31_test_score': array([0.76717017, 0.77434715, 0.78651517, 0.78646241, 0.7767337 ,\n",
       "        0.77994309, 0.77537907, 0.77854638, 0.78365536, 0.77820196,\n",
       "        0.7875738 , 0.78627966, 0.76631712, 0.77225777, 0.7901477 ,\n",
       "        0.78709494, 0.78100915, 0.77021198, 0.7840827 , 0.78611235]),\n",
       " 'split32_test_score': array([0.79550431, 0.78963376, 0.79405455, 0.79668355, 0.79646149,\n",
       "        0.80025795, 0.79246664, 0.79697667, 0.79405635, 0.7943942 ,\n",
       "        0.78784425, 0.80070388, 0.79379257, 0.78369461, 0.79552445,\n",
       "        0.79034082, 0.79660818, 0.78986756, 0.79275817, 0.78989949]),\n",
       " 'split33_test_score': array([0.70893015, 0.70481655, 0.70631693, 0.7065773 , 0.70849698,\n",
       "        0.70786026, 0.70987158, 0.70611524, 0.70776444, 0.70953572,\n",
       "        0.70621084, 0.70792317, 0.70775209, 0.70657848, 0.70611869,\n",
       "        0.70662447, 0.70637357, 0.70887241, 0.70837278, 0.70705036]),\n",
       " 'split34_test_score': array([0.78440222, 0.7813043 , 0.78256977, 0.78714807, 0.77770588,\n",
       "        0.78166757, 0.78248299, 0.78599058, 0.78615076, 0.78459883,\n",
       "        0.78470802, 0.78108729, 0.78559826, 0.78317619, 0.78179686,\n",
       "        0.78680069, 0.78711723, 0.78484365, 0.78677403, 0.78088601]),\n",
       " 'split35_test_score': array([0.78623323, 0.78671045, 0.78419503, 0.78175175, 0.78676626,\n",
       "        0.77986317, 0.78614727, 0.78091003, 0.78994518, 0.78480415,\n",
       "        0.77988386, 0.78701379, 0.77451915, 0.79337354, 0.76766045,\n",
       "        0.78901322, 0.77888701, 0.78102701, 0.77706168, 0.77962929]),\n",
       " 'split36_test_score': array([0.80941647, 0.81068694, 0.80897095, 0.80696946, 0.80583629,\n",
       "        0.80855037, 0.80592711, 0.8104475 , 0.80690373, 0.80469589,\n",
       "        0.80732294, 0.8068814 , 0.81223895, 0.80821154, 0.80539555,\n",
       "        0.80801987, 0.81148247, 0.81036817, 0.81017832, 0.80799617]),\n",
       " 'split37_test_score': array([0.73978224, 0.74704681, 0.74576038, 0.7414939 , 0.74583621,\n",
       "        0.73862474, 0.74426866, 0.74262438, 0.74079056, 0.74046021,\n",
       "        0.73968939, 0.73822441, 0.74132825, 0.74260952, 0.74756   ,\n",
       "        0.7406216 , 0.73922203, 0.72425452, 0.74061243, 0.74104647]),\n",
       " 'split38_test_score': array([0.79699626, 0.78463205, 0.79086266, 0.78665012, 0.79221113,\n",
       "        0.79579088, 0.79461404, 0.7932551 , 0.78565352, 0.78980743,\n",
       "        0.78457901, 0.78194244, 0.7854682 , 0.79350374, 0.77980726,\n",
       "        0.78007195, 0.79677419, 0.78377656, 0.79055147, 0.78949897]),\n",
       " 'split39_test_score': array([0.55586222, 0.5737743 , 0.56620352, 0.55691811, 0.57272871,\n",
       "        0.55967506, 0.55797444, 0.55968645, 0.53906225, 0.566349  ,\n",
       "        0.57880529, 0.55341937, 0.57357456, 0.56306322, 0.55947424,\n",
       "        0.5487627 , 0.56949871, 0.53512089, 0.56037186, 0.56456165]),\n",
       " 'mean_test_score': array([0.75144471, 0.75065055, 0.7506799 , 0.75258408, 0.75169015,\n",
       "        0.75303723, 0.75165436, 0.75105776, 0.75119764, 0.75033341,\n",
       "        0.75038478, 0.74987751, 0.75020328, 0.75070489, 0.75137877,\n",
       "        0.75020398, 0.7511035 , 0.74730108, 0.75069905, 0.74987139]),\n",
       " 'std_test_score': array([0.0571378 , 0.05947396, 0.05983816, 0.05835506, 0.05852567,\n",
       "        0.05847225, 0.05854741, 0.06027303, 0.06099983, 0.05869929,\n",
       "        0.05725005, 0.06012681, 0.05692069, 0.0581485 , 0.0589537 ,\n",
       "        0.05857423, 0.05935697, 0.06041011, 0.05924654, 0.05941017]),\n",
       " 'rank_test_score': array([ 5, 13, 12,  2,  3,  1,  4,  9,  7, 15, 14, 18, 17, 10,  6, 16,  8,\n",
       "        20, 11, 19], dtype=int32)}"
      ]
     },
     "execution_count": 14,
     "metadata": {},
     "output_type": "execute_result"
    }
   ],
   "source": [
    "Grid.cv_results_"
   ]
  },
  {
   "cell_type": "markdown",
   "metadata": {},
   "source": [
    "### Check the parameters of the best model"
   ]
  },
  {
   "cell_type": "code",
   "execution_count": 15,
   "metadata": {},
   "outputs": [
    {
     "data": {
      "text/plain": [
       "<bound method Pipeline.get_params of Pipeline(steps=[('preprocessor',\n",
       "                 ColumnTransformer(transformers=[('num',\n",
       "                                                  Pipeline(steps=[('imputer',\n",
       "                                                                   SimpleImputer()),\n",
       "                                                                  ('scaler',\n",
       "                                                                   StandardScaler())]),\n",
       "                                                  Index(['OverallQual', 'GrLivArea'], dtype='object')),\n",
       "                                                 ('cat',\n",
       "                                                  Pipeline(steps=[('imputer',\n",
       "                                                                   SimpleImputer(fill_value='missing',\n",
       "                                                                                 strategy='constant')),\n",
       "                                                                  ('onehot',\n",
       "                                                                   OneHotEncoder(handle_unknown='ignore'))]),\n",
       "                                                  Index(['Neighborhood'], dtype='object'))])),\n",
       "                ('regressor',\n",
       "                 LinearSVR(C=2.8000000000000003, max_iter=1000.0, tol=0.01))])>"
      ]
     },
     "execution_count": 15,
     "metadata": {},
     "output_type": "execute_result"
    }
   ],
   "source": [
    "#check the parameters of the best model\n",
    "best_model.get_params"
   ]
  },
  {
   "cell_type": "markdown",
   "metadata": {},
   "source": [
    "## Results"
   ]
  },
  {
   "cell_type": "code",
   "execution_count": 11,
   "metadata": {},
   "outputs": [
    {
     "name": "stdout",
     "output_type": "stream",
     "text": [
      "Metrics of y_test prediction:\n",
      "MSE: 1258326760.5002174\n",
      "RMSE: 35472.90177727525\n",
      "R2: 0.8125601047191767\n"
     ]
    },
    {
     "data": {
      "image/png": "[encoded data removed]",
      "text/plain": [
       "<Figure size 720x432 with 1 Axes>"
      ]
     },
     "metadata": {
      "needs_background": "light"
     },
     "output_type": "display_data"
    }
   ],
   "source": [
    "y_pred_scaled = best_model.predict(X_test)\n",
    "y_pred = y_scaler.inverse_transform(y_pred_scaled.reshape(-1,1))\n",
    "y_test_real = y_scaler.inverse_transform(y_test.reshape(-1,1))\n",
    "y_test_real = y_test_real.ravel()\n",
    "\n",
    "# Show metrics\n",
    "print('Metrics of y_test prediction:')\n",
    "mse = mean_squared_error(y_test_real, y_pred.ravel())\n",
    "print(\"MSE:\", mse)\n",
    "rmse = np.sqrt(mse)\n",
    "print(\"RMSE:\", rmse)\n",
    "r2 = r2_score(y_test_real, y_pred.ravel())\n",
    "print(\"R2:\", r2)\n",
    "# Plot predicted vs actual\n",
    "\n",
    "\n",
    "\n",
    "fig = plt.figure(figsize = (10,6))\n",
    "plt.scatter(y_test_real.ravel(), y_pred.ravel())\n",
    "plt.xlabel(f'Actual')\n",
    "plt.ylabel(f'Predicted')\n",
    "plt.title('Predictions vs Actuals')\n",
    "z = np.polyfit(y_test_real.ravel(), y_pred.ravel(), 1)\n",
    "p = np.poly1d(z)\n",
    "plt.plot(y_test_real.ravel(), p(y_test_real.ravel()), color='magenta')\n",
    "plt.show()\n",
    "    "
   ]
  },
  {
   "cell_type": "code",
   "execution_count": null,
   "metadata": {},
   "outputs": [],
   "source": []
  }
 ],
 "metadata": {
  "kernelspec": {
   "display_name": "Python 3",
   "language": "python",
   "name": "python3"
  },
  "language_info": {
   "codemirror_mode": {
    "name": "ipython",
    "version": 3
   },
   "file_extension": ".py",
   "mimetype": "text/x-python",
   "name": "python",
   "nbconvert_exporter": "python",
   "pygments_lexer": "ipython3",
   "version": "3.8.5"
  },
  "toc": {
   "base_numbering": 1,
   "nav_menu": {},
   "number_sections": true,
   "sideBar": true,
   "skip_h1_title": true,
   "title_cell": "Table of Contents",
   "title_sidebar": "Contents",
   "toc_cell": true,
   "toc_position": {},
   "toc_section_display": true,
   "toc_window_display": true
  }
 },
 "nbformat": 4,
 "nbformat_minor": 4
}
