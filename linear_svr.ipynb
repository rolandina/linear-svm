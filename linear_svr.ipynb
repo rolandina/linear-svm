{
 "cells": [
  {
   "cell_type": "markdown",
   "metadata": {
    "toc": true
   },
   "source": [
    "<h1>Table of Contents<span class=\"tocSkip\"></span></h1>\n",
    "<div class=\"toc\"><ul class=\"toc-item\"><li><span><a href=\"#Get-and-prepare-dataset\" data-toc-modified-id=\"Get-and-prepare-dataset-1\"><span class=\"toc-item-num\">1&nbsp;&nbsp;</span>Get and prepare dataset</a></span></li><li><span><a href=\"#Build-and-train-the-model\" data-toc-modified-id=\"Build-and-train-the-model-2\"><span class=\"toc-item-num\">2&nbsp;&nbsp;</span>Build and train the model</a></span><ul class=\"toc-item\"><li><span><a href=\"#Scale-target\" data-toc-modified-id=\"Scale-target-2.1\"><span class=\"toc-item-num\">2.1&nbsp;&nbsp;</span>Scale target</a></span></li><li><span><a href=\"#Split-data-set\" data-toc-modified-id=\"Split-data-set-2.2\"><span class=\"toc-item-num\">2.2&nbsp;&nbsp;</span>Split data set</a></span></li><li><span><a href=\"#Adjust-the-parameters-of-the-model\" data-toc-modified-id=\"Adjust-the-parameters-of-the-model-2.3\"><span class=\"toc-item-num\">2.3&nbsp;&nbsp;</span>Adjust the parameters of the model</a></span></li><li><span><a href=\"#Train-model\" data-toc-modified-id=\"Train-model-2.4\"><span class=\"toc-item-num\">2.4&nbsp;&nbsp;</span>Train model</a></span></li><li><span><a href=\"#Check-the-parameters-of-the-best-model\" data-toc-modified-id=\"Check-the-parameters-of-the-best-model-2.5\"><span class=\"toc-item-num\">2.5&nbsp;&nbsp;</span>Check the parameters of the best model</a></span></li></ul></li><li><span><a href=\"#Results\" data-toc-modified-id=\"Results-3\"><span class=\"toc-item-num\">3&nbsp;&nbsp;</span>Results</a></span></li></ul></div>"
   ]
  },
  {
   "cell_type": "code",
   "execution_count": 1,
   "metadata": {},
   "outputs": [],
   "source": [
    "#import all libraries\n",
    "import pandas as pd\n",
    "import seaborn as sns\n",
    "import matplotlib.pyplot as plt\n",
    "import numpy as np\n",
    "\n",
    "#preprocessing and model selection\n",
    "from sklearn.impute import SimpleImputer\n",
    "from sklearn.preprocessing import OneHotEncoder, LabelEncoder, StandardScaler\n",
    "from sklearn.compose import ColumnTransformer\n",
    "from sklearn.pipeline import Pipeline\n",
    "from sklearn.model_selection import GridSearchCV, RandomizedSearchCV, RepeatedKFold, train_test_split, cross_val_score\n",
    "\n",
    "#regression model metrics\n",
    "from sklearn.metrics import mean_squared_error, r2_score\n",
    "\n",
    "#regression models\n",
    "from sklearn.svm import LinearSVR"
   ]
  },
  {
   "cell_type": "markdown",
   "metadata": {},
   "source": [
    "## Get and prepare dataset"
   ]
  },
  {
   "cell_type": "code",
   "execution_count": 2,
   "metadata": {},
   "outputs": [],
   "source": [
    "#download the dataset take 4 columns by the link\n",
    "path = 'https://simplonline-v3-prod.s3.eu-west-3.amazonaws.com/media/file/csv/bdfc59ed-c3c7-48ac-a3d3-9e54663f6c1d.csv'\n",
    "target = 'SalePrice'\n",
    "df = pd.read_csv(path)\n",
    "#df = df[[\"OverallQual\",\"GrLivArea\", 'Neighborhood', \"SalePrice\"]]\n",
    "df = df[['LotArea', 'OverallQual', '1stFlrSF', 'YearBuilt', 'YearRemodAdd', 'MasVnrArea', 'BsmtFinSF1', 'TotalBsmtSF', 'GrLivArea', 'FullBath', 'TotRmsAbvGrd', 'Fireplaces', 'GarageCars', 'GarageArea', 'MSZoning', 'LotShape', 'LandContour', 'Neighborhood', 'Condition1', 'Condition2', 'HouseStyle', 'RoofMatl', 'Exterior1st', 'Exterior2nd', 'ExterQual', 'BsmtQual', 'BsmtExposure', 'KitchenQual', 'Functional', 'SaleType', 'SaleCondition', \"SalePrice\"]]\n"
   ]
  },
  {
   "cell_type": "code",
   "execution_count": 3,
   "metadata": {},
   "outputs": [
    {
     "name": "stdout",
     "output_type": "stream",
     "text": [
      "<class 'pandas.core.frame.DataFrame'>\n",
      "RangeIndex: 1460 entries, 0 to 1459\n",
      "Data columns (total 32 columns):\n",
      " #   Column         Non-Null Count  Dtype  \n",
      "---  ------         --------------  -----  \n",
      " 0   LotArea        1460 non-null   int64  \n",
      " 1   OverallQual    1460 non-null   int64  \n",
      " 2   1stFlrSF       1460 non-null   int64  \n",
      " 3   YearBuilt      1460 non-null   int64  \n",
      " 4   YearRemodAdd   1460 non-null   int64  \n",
      " 5   MasVnrArea     1452 non-null   float64\n",
      " 6   BsmtFinSF1     1460 non-null   int64  \n",
      " 7   TotalBsmtSF    1460 non-null   int64  \n",
      " 8   GrLivArea      1460 non-null   int64  \n",
      " 9   FullBath       1460 non-null   int64  \n",
      " 10  TotRmsAbvGrd   1460 non-null   int64  \n",
      " 11  Fireplaces     1460 non-null   int64  \n",
      " 12  GarageCars     1460 non-null   int64  \n",
      " 13  GarageArea     1460 non-null   int64  \n",
      " 14  MSZoning       1460 non-null   object \n",
      " 15  LotShape       1460 non-null   object \n",
      " 16  LandContour    1460 non-null   object \n",
      " 17  Neighborhood   1460 non-null   object \n",
      " 18  Condition1     1460 non-null   object \n",
      " 19  Condition2     1460 non-null   object \n",
      " 20  HouseStyle     1460 non-null   object \n",
      " 21  RoofMatl       1460 non-null   object \n",
      " 22  Exterior1st    1460 non-null   object \n",
      " 23  Exterior2nd    1460 non-null   object \n",
      " 24  ExterQual      1460 non-null   object \n",
      " 25  BsmtQual       1423 non-null   object \n",
      " 26  BsmtExposure   1422 non-null   object \n",
      " 27  KitchenQual    1460 non-null   object \n",
      " 28  Functional     1460 non-null   object \n",
      " 29  SaleType       1460 non-null   object \n",
      " 30  SaleCondition  1460 non-null   object \n",
      " 31  SalePrice      1460 non-null   int64  \n",
      "dtypes: float64(1), int64(14), object(17)\n",
      "memory usage: 365.1+ KB\n"
     ]
    }
   ],
   "source": [
    "#check the dataset\n",
    "df.info()"
   ]
  },
  {
   "cell_type": "code",
   "execution_count": 4,
   "metadata": {},
   "outputs": [],
   "source": [
    "#separate target from features\n",
    "X = df.drop(columns = [target])\n",
    "y = df[[target]]"
   ]
  },
  {
   "cell_type": "markdown",
   "metadata": {},
   "source": [
    "## Build and train the model"
   ]
  },
  {
   "cell_type": "code",
   "execution_count": 5,
   "metadata": {},
   "outputs": [
    {
     "name": "stdout",
     "output_type": "stream",
     "text": [
      "Index(['MSZoning', 'LotShape', 'LandContour', 'Neighborhood', 'Condition1',\n",
      "       'Condition2', 'HouseStyle', 'RoofMatl', 'Exterior1st', 'Exterior2nd',\n",
      "       'ExterQual', 'BsmtQual', 'BsmtExposure', 'KitchenQual', 'Functional',\n",
      "       'SaleType', 'SaleCondition'],\n",
      "      dtype='object')\n",
      "Index(['LotArea', 'OverallQual', '1stFlrSF', 'YearBuilt', 'YearRemodAdd',\n",
      "       'MasVnrArea', 'BsmtFinSF1', 'TotalBsmtSF', 'GrLivArea', 'FullBath',\n",
      "       'TotRmsAbvGrd', 'Fireplaces', 'GarageCars', 'GarageArea'],\n",
      "      dtype='object')\n"
     ]
    }
   ],
   "source": [
    "#create Pipeline with transformation + model\n",
    "\n",
    "numeric_transformer = Pipeline(steps=[('imputer', SimpleImputer(\n",
    "    strategy='most_frequent')), ('scaler', StandardScaler())])\n",
    "\n",
    "categorical_transformer = Pipeline(\n",
    "    steps=[('imputer', SimpleImputer(strategy='constant', fill_value='missing')\n",
    "            ), ('onehot', OneHotEncoder(handle_unknown='ignore'))])\n",
    "\n",
    "numeric_features = df.select_dtypes(include=['int64', 'float64']).drop(\n",
    "    columns=[target]).columns\n",
    "categorical_features = df.select_dtypes(include=['object']).columns\n",
    "\n",
    "\n",
    "preprocessor = ColumnTransformer(\n",
    "    transformers=[\n",
    "        ('num', numeric_transformer, numeric_features),\n",
    "        ('cat', categorical_transformer, categorical_features),\n",
    "    ])\n",
    "\n",
    "print(categorical_features)\n",
    "print(numeric_features)\n",
    "lsvr = Pipeline(steps=[('preprocessor', preprocessor),                       \n",
    "                      ('regressor', LinearSVR())])"
   ]
  },
  {
   "cell_type": "markdown",
   "metadata": {},
   "source": [
    "### Scale target"
   ]
  },
  {
   "cell_type": "code",
   "execution_count": 6,
   "metadata": {},
   "outputs": [],
   "source": [
    "y_scaler = StandardScaler() #(n,1)\n",
    "y_scaler.fit(y) # mean, std ->\n",
    "y = y_scaler.transform(y)"
   ]
  },
  {
   "cell_type": "markdown",
   "metadata": {},
   "source": [
    "### Split data set"
   ]
  },
  {
   "cell_type": "code",
   "execution_count": 7,
   "metadata": {},
   "outputs": [],
   "source": [
    "#split data set on test and train data\n",
    "X_train, X_test, y_train, y_test = train_test_split(X,\n",
    "                                                    y.ravel(),\n",
    "                                                    test_size=0.25,\n",
    "                                                    random_state=1)"
   ]
  },
  {
   "cell_type": "markdown",
   "metadata": {},
   "source": [
    "### Adjust the parameters of the model "
   ]
  },
  {
   "cell_type": "code",
   "execution_count": 22,
   "metadata": {},
   "outputs": [],
   "source": [
    "#parameters for pipeline model\n",
    "paramsLinearSVR = \\\n",
    "{\n",
    " 'regressor__C': [float(i)*0.3+0.1 for i in range(40)],\n",
    " #'regressor__dual': [True],\n",
    " #'regressor__epsilon': [0.0],\n",
    " #'regressor__fit_intercept': [True],\n",
    " #'regressor__intercept_scaling': [1.0],\n",
    " #'regressor__loss': ['epsilon_insensitive'],\n",
    " 'regressor__max_iter': [ 1000*float(i+1) for i in range(10)],\n",
    " #'regressor__random_state': [19],\n",
    " 'regressor__tol': [0.1],\n",
    " #'regressor__verbose': [0],\n",
    "\n",
    "}"
   ]
  },
  {
   "cell_type": "markdown",
   "metadata": {},
   "source": [
    "### Train model "
   ]
  },
  {
   "cell_type": "code",
   "execution_count": 23,
   "metadata": {},
   "outputs": [
    {
     "name": "stderr",
     "output_type": "stream",
     "text": [
      "/home/smirnova/apps/anaconda3/lib/python3.8/site-packages/sklearn/svm/_base.py:976: ConvergenceWarning: Liblinear failed to converge, increase the number of iterations.\n",
      "  warnings.warn(\"Liblinear failed to converge, increase \"\n",
      "/home/smirnova/apps/anaconda3/lib/python3.8/site-packages/sklearn/svm/_base.py:976: ConvergenceWarning: Liblinear failed to converge, increase the number of iterations.\n",
      "  warnings.warn(\"Liblinear failed to converge, increase \"\n",
      "/home/smirnova/apps/anaconda3/lib/python3.8/site-packages/sklearn/svm/_base.py:976: ConvergenceWarning: Liblinear failed to converge, increase the number of iterations.\n",
      "  warnings.warn(\"Liblinear failed to converge, increase \"\n",
      "/home/smirnova/apps/anaconda3/lib/python3.8/site-packages/sklearn/svm/_base.py:976: ConvergenceWarning: Liblinear failed to converge, increase the number of iterations.\n",
      "  warnings.warn(\"Liblinear failed to converge, increase \"\n",
      "/home/smirnova/apps/anaconda3/lib/python3.8/site-packages/sklearn/svm/_base.py:976: ConvergenceWarning: Liblinear failed to converge, increase the number of iterations.\n",
      "  warnings.warn(\"Liblinear failed to converge, increase \"\n",
      "/home/smirnova/apps/anaconda3/lib/python3.8/site-packages/sklearn/svm/_base.py:976: ConvergenceWarning: Liblinear failed to converge, increase the number of iterations.\n",
      "  warnings.warn(\"Liblinear failed to converge, increase \"\n",
      "/home/smirnova/apps/anaconda3/lib/python3.8/site-packages/sklearn/svm/_base.py:976: ConvergenceWarning: Liblinear failed to converge, increase the number of iterations.\n",
      "  warnings.warn(\"Liblinear failed to converge, increase \"\n",
      "/home/smirnova/apps/anaconda3/lib/python3.8/site-packages/sklearn/svm/_base.py:976: ConvergenceWarning: Liblinear failed to converge, increase the number of iterations.\n",
      "  warnings.warn(\"Liblinear failed to converge, increase \"\n",
      "/home/smirnova/apps/anaconda3/lib/python3.8/site-packages/sklearn/svm/_base.py:976: ConvergenceWarning: Liblinear failed to converge, increase the number of iterations.\n",
      "  warnings.warn(\"Liblinear failed to converge, increase \"\n",
      "/home/smirnova/apps/anaconda3/lib/python3.8/site-packages/sklearn/svm/_base.py:976: ConvergenceWarning: Liblinear failed to converge, increase the number of iterations.\n",
      "  warnings.warn(\"Liblinear failed to converge, increase \"\n",
      "/home/smirnova/apps/anaconda3/lib/python3.8/site-packages/sklearn/svm/_base.py:976: ConvergenceWarning: Liblinear failed to converge, increase the number of iterations.\n",
      "  warnings.warn(\"Liblinear failed to converge, increase \"\n",
      "/home/smirnova/apps/anaconda3/lib/python3.8/site-packages/sklearn/svm/_base.py:976: ConvergenceWarning: Liblinear failed to converge, increase the number of iterations.\n",
      "  warnings.warn(\"Liblinear failed to converge, increase \"\n",
      "/home/smirnova/apps/anaconda3/lib/python3.8/site-packages/sklearn/svm/_base.py:976: ConvergenceWarning: Liblinear failed to converge, increase the number of iterations.\n",
      "  warnings.warn(\"Liblinear failed to converge, increase \"\n",
      "/home/smirnova/apps/anaconda3/lib/python3.8/site-packages/sklearn/svm/_base.py:976: ConvergenceWarning: Liblinear failed to converge, increase the number of iterations.\n",
      "  warnings.warn(\"Liblinear failed to converge, increase \"\n",
      "/home/smirnova/apps/anaconda3/lib/python3.8/site-packages/sklearn/svm/_base.py:976: ConvergenceWarning: Liblinear failed to converge, increase the number of iterations.\n",
      "  warnings.warn(\"Liblinear failed to converge, increase \"\n",
      "/home/smirnova/apps/anaconda3/lib/python3.8/site-packages/sklearn/svm/_base.py:976: ConvergenceWarning: Liblinear failed to converge, increase the number of iterations.\n",
      "  warnings.warn(\"Liblinear failed to converge, increase \"\n",
      "/home/smirnova/apps/anaconda3/lib/python3.8/site-packages/sklearn/svm/_base.py:976: ConvergenceWarning: Liblinear failed to converge, increase the number of iterations.\n",
      "  warnings.warn(\"Liblinear failed to converge, increase \"\n",
      "/home/smirnova/apps/anaconda3/lib/python3.8/site-packages/sklearn/svm/_base.py:976: ConvergenceWarning: Liblinear failed to converge, increase the number of iterations.\n",
      "  warnings.warn(\"Liblinear failed to converge, increase \"\n",
      "/home/smirnova/apps/anaconda3/lib/python3.8/site-packages/sklearn/svm/_base.py:976: ConvergenceWarning: Liblinear failed to converge, increase the number of iterations.\n",
      "  warnings.warn(\"Liblinear failed to converge, increase \"\n",
      "/home/smirnova/apps/anaconda3/lib/python3.8/site-packages/sklearn/svm/_base.py:976: ConvergenceWarning: Liblinear failed to converge, increase the number of iterations.\n",
      "  warnings.warn(\"Liblinear failed to converge, increase \"\n",
      "/home/smirnova/apps/anaconda3/lib/python3.8/site-packages/sklearn/svm/_base.py:976: ConvergenceWarning: Liblinear failed to converge, increase the number of iterations.\n",
      "  warnings.warn(\"Liblinear failed to converge, increase \"\n",
      "/home/smirnova/apps/anaconda3/lib/python3.8/site-packages/sklearn/svm/_base.py:976: ConvergenceWarning: Liblinear failed to converge, increase the number of iterations.\n",
      "  warnings.warn(\"Liblinear failed to converge, increase \"\n",
      "/home/smirnova/apps/anaconda3/lib/python3.8/site-packages/sklearn/svm/_base.py:976: ConvergenceWarning: Liblinear failed to converge, increase the number of iterations.\n",
      "  warnings.warn(\"Liblinear failed to converge, increase \"\n",
      "/home/smirnova/apps/anaconda3/lib/python3.8/site-packages/sklearn/svm/_base.py:976: ConvergenceWarning: Liblinear failed to converge, increase the number of iterations.\n",
      "  warnings.warn(\"Liblinear failed to converge, increase \"\n",
      "/home/smirnova/apps/anaconda3/lib/python3.8/site-packages/sklearn/svm/_base.py:976: ConvergenceWarning: Liblinear failed to converge, increase the number of iterations.\n",
      "  warnings.warn(\"Liblinear failed to converge, increase \"\n",
      "/home/smirnova/apps/anaconda3/lib/python3.8/site-packages/sklearn/svm/_base.py:976: ConvergenceWarning: Liblinear failed to converge, increase the number of iterations.\n",
      "  warnings.warn(\"Liblinear failed to converge, increase \"\n",
      "/home/smirnova/apps/anaconda3/lib/python3.8/site-packages/sklearn/svm/_base.py:976: ConvergenceWarning: Liblinear failed to converge, increase the number of iterations.\n",
      "  warnings.warn(\"Liblinear failed to converge, increase \"\n",
      "/home/smirnova/apps/anaconda3/lib/python3.8/site-packages/sklearn/svm/_base.py:976: ConvergenceWarning: Liblinear failed to converge, increase the number of iterations.\n",
      "  warnings.warn(\"Liblinear failed to converge, increase \"\n",
      "/home/smirnova/apps/anaconda3/lib/python3.8/site-packages/sklearn/svm/_base.py:976: ConvergenceWarning: Liblinear failed to converge, increase the number of iterations.\n",
      "  warnings.warn(\"Liblinear failed to converge, increase \"\n",
      "/home/smirnova/apps/anaconda3/lib/python3.8/site-packages/sklearn/svm/_base.py:976: ConvergenceWarning: Liblinear failed to converge, increase the number of iterations.\n",
      "  warnings.warn(\"Liblinear failed to converge, increase \"\n",
      "/home/smirnova/apps/anaconda3/lib/python3.8/site-packages/sklearn/svm/_base.py:976: ConvergenceWarning: Liblinear failed to converge, increase the number of iterations.\n",
      "  warnings.warn(\"Liblinear failed to converge, increase \"\n",
      "/home/smirnova/apps/anaconda3/lib/python3.8/site-packages/sklearn/svm/_base.py:976: ConvergenceWarning: Liblinear failed to converge, increase the number of iterations.\n",
      "  warnings.warn(\"Liblinear failed to converge, increase \"\n",
      "/home/smirnova/apps/anaconda3/lib/python3.8/site-packages/sklearn/svm/_base.py:976: ConvergenceWarning: Liblinear failed to converge, increase the number of iterations.\n",
      "  warnings.warn(\"Liblinear failed to converge, increase \"\n",
      "/home/smirnova/apps/anaconda3/lib/python3.8/site-packages/sklearn/svm/_base.py:976: ConvergenceWarning: Liblinear failed to converge, increase the number of iterations.\n",
      "  warnings.warn(\"Liblinear failed to converge, increase \"\n",
      "/home/smirnova/apps/anaconda3/lib/python3.8/site-packages/sklearn/svm/_base.py:976: ConvergenceWarning: Liblinear failed to converge, increase the number of iterations.\n",
      "  warnings.warn(\"Liblinear failed to converge, increase \"\n",
      "/home/smirnova/apps/anaconda3/lib/python3.8/site-packages/sklearn/svm/_base.py:976: ConvergenceWarning: Liblinear failed to converge, increase the number of iterations.\n",
      "  warnings.warn(\"Liblinear failed to converge, increase \"\n",
      "/home/smirnova/apps/anaconda3/lib/python3.8/site-packages/sklearn/svm/_base.py:976: ConvergenceWarning: Liblinear failed to converge, increase the number of iterations.\n",
      "  warnings.warn(\"Liblinear failed to converge, increase \"\n"
     ]
    },
    {
     "name": "stderr",
     "output_type": "stream",
     "text": [
      "/home/smirnova/apps/anaconda3/lib/python3.8/site-packages/sklearn/svm/_base.py:976: ConvergenceWarning: Liblinear failed to converge, increase the number of iterations.\n",
      "  warnings.warn(\"Liblinear failed to converge, increase \"\n",
      "/home/smirnova/apps/anaconda3/lib/python3.8/site-packages/sklearn/svm/_base.py:976: ConvergenceWarning: Liblinear failed to converge, increase the number of iterations.\n",
      "  warnings.warn(\"Liblinear failed to converge, increase \"\n",
      "/home/smirnova/apps/anaconda3/lib/python3.8/site-packages/sklearn/svm/_base.py:976: ConvergenceWarning: Liblinear failed to converge, increase the number of iterations.\n",
      "  warnings.warn(\"Liblinear failed to converge, increase \"\n"
     ]
    }
   ],
   "source": [
    "#cross validation\n",
    "cv1 = RepeatedKFold(n_splits=10, n_repeats=4, random_state=1)\n",
    "\n",
    "Grid = RandomizedSearchCV(lsvr, paramsLinearSVR, n_iter = 10, scoring='r2', cv=cv1)\n",
    "Grid.fit(X_train, y_train.ravel()) #(n,1) -> (n,)\n",
    "best_model = Grid.best_estimator_"
   ]
  },
  {
   "cell_type": "code",
   "execution_count": 24,
   "metadata": {},
   "outputs": [
    {
     "data": {
      "text/plain": [
       "{'mean_fit_time': array([0.25724847, 0.15502293, 0.08146331, 0.353499  , 0.13709962,\n",
       "        0.17449674, 0.32966294, 0.11077874, 0.15206364, 0.33616223]),\n",
       " 'std_fit_time': array([0.04805229, 0.02029129, 0.0127235 , 0.06743759, 0.01605717,\n",
       "        0.02757621, 0.09526335, 0.02565394, 0.05052833, 0.05897348]),\n",
       " 'mean_score_time': array([0.00739862, 0.01043081, 0.01042963, 0.01190161, 0.01037703,\n",
       "        0.00988333, 0.01111355, 0.00934038, 0.01558346, 0.01219748]),\n",
       " 'std_score_time': array([0.00146593, 0.00273754, 0.00226545, 0.00290106, 0.00116703,\n",
       "        0.00173386, 0.00337556, 0.00211274, 0.00555923, 0.00281875]),\n",
       " 'param_regressor__tol': masked_array(data=[0.1, 0.1, 0.1, 0.1, 0.1, 0.1, 0.1, 0.1, 0.1, 0.1],\n",
       "              mask=[False, False, False, False, False, False, False, False,\n",
       "                    False, False],\n",
       "        fill_value='?',\n",
       "             dtype=object),\n",
       " 'param_regressor__max_iter': masked_array(data=[5000.0, 5000.0, 2000.0, 8000.0, 5000.0, 5000.0, 3000.0,\n",
       "                    1000.0, 2000.0, 2000.0],\n",
       "              mask=[False, False, False, False, False, False, False, False,\n",
       "                    False, False],\n",
       "        fill_value='?',\n",
       "             dtype=object),\n",
       " 'param_regressor__C': masked_array(data=[10.299999999999999, 4.0, 1.6, 8.799999999999999, 3.4,\n",
       "                    4.6, 8.799999999999999, 2.8, 2.2, 11.2],\n",
       "              mask=[False, False, False, False, False, False, False, False,\n",
       "                    False, False],\n",
       "        fill_value='?',\n",
       "             dtype=object),\n",
       " 'params': [{'regressor__tol': 0.1,\n",
       "   'regressor__max_iter': 5000.0,\n",
       "   'regressor__C': 10.299999999999999},\n",
       "  {'regressor__tol': 0.1, 'regressor__max_iter': 5000.0, 'regressor__C': 4.0},\n",
       "  {'regressor__tol': 0.1, 'regressor__max_iter': 2000.0, 'regressor__C': 1.6},\n",
       "  {'regressor__tol': 0.1,\n",
       "   'regressor__max_iter': 8000.0,\n",
       "   'regressor__C': 8.799999999999999},\n",
       "  {'regressor__tol': 0.1, 'regressor__max_iter': 5000.0, 'regressor__C': 3.4},\n",
       "  {'regressor__tol': 0.1, 'regressor__max_iter': 5000.0, 'regressor__C': 4.6},\n",
       "  {'regressor__tol': 0.1,\n",
       "   'regressor__max_iter': 3000.0,\n",
       "   'regressor__C': 8.799999999999999},\n",
       "  {'regressor__tol': 0.1, 'regressor__max_iter': 1000.0, 'regressor__C': 2.8},\n",
       "  {'regressor__tol': 0.1, 'regressor__max_iter': 2000.0, 'regressor__C': 2.2},\n",
       "  {'regressor__tol': 0.1,\n",
       "   'regressor__max_iter': 2000.0,\n",
       "   'regressor__C': 11.2}],\n",
       " 'split0_test_score': array([0.43887964, 0.4399916 , 0.32749653, 0.39824846, 0.40321655,\n",
       "        0.47382381, 0.36331263, 0.40390411, 0.46084078, 0.36106406]),\n",
       " 'split1_test_score': array([0.87286534, 0.87906998, 0.87856824, 0.87556889, 0.87850431,\n",
       "        0.87614902, 0.87643156, 0.8747555 , 0.8708836 , 0.86161559]),\n",
       " 'split2_test_score': array([0.73091125, 0.75412177, 0.77873996, 0.72837318, 0.76200753,\n",
       "        0.7510658 , 0.74194758, 0.7739452 , 0.76026394, 0.74367059]),\n",
       " 'split3_test_score': array([0.92442373, 0.92396012, 0.92925982, 0.91968869, 0.91858066,\n",
       "        0.92679093, 0.9238184 , 0.92583006, 0.92880372, 0.92004528]),\n",
       " 'split4_test_score': array([0.90447026, 0.90336405, 0.90668229, 0.90168922, 0.89824765,\n",
       "        0.90282395, 0.89886528, 0.90286287, 0.90093285, 0.88449619]),\n",
       " 'split5_test_score': array([0.91326131, 0.90581131, 0.92581098, 0.91472643, 0.9161759 ,\n",
       "        0.90833553, 0.91537778, 0.9104996 , 0.91859374, 0.91697407]),\n",
       " 'split6_test_score': array([0.91987122, 0.91584907, 0.92196702, 0.92227895, 0.92176466,\n",
       "        0.92560542, 0.92258958, 0.9181771 , 0.90484201, 0.92365848]),\n",
       " 'split7_test_score': array([0.67378765, 0.66569464, 0.72060713, 0.68722661, 0.65594924,\n",
       "        0.67552089, 0.67432034, 0.64927128, 0.6662474 , 0.65868118]),\n",
       " 'split8_test_score': array([0.70607684, 0.7271152 , 0.88860161, 0.72617536, 0.79214843,\n",
       "        0.70408943, 0.69228784, 0.84353391, 0.88334556, 0.71993956]),\n",
       " 'split9_test_score': array([0.88347035, 0.9023559 , 0.9031732 , 0.87824711, 0.8970893 ,\n",
       "        0.89479526, 0.89766291, 0.8962936 , 0.90053501, 0.90410066]),\n",
       " 'split10_test_score': array([0.90541355, 0.89386091, 0.90090245, 0.89954557, 0.90336107,\n",
       "        0.90286393, 0.88810958, 0.90199798, 0.90458378, 0.89511605]),\n",
       " 'split11_test_score': array([0.68031147, 0.72756976, 0.88292199, 0.67881412, 0.78381699,\n",
       "        0.70566508, 0.70054443, 0.83286105, 0.85521462, 0.72468094]),\n",
       " 'split12_test_score': array([0.90560026, 0.90078047, 0.91088084, 0.90472737, 0.91086939,\n",
       "        0.89654468, 0.91095426, 0.90910478, 0.90046068, 0.90260585]),\n",
       " 'split13_test_score': array([0.87507221, 0.87812251, 0.87842784, 0.88037601, 0.86998188,\n",
       "        0.87913839, 0.87774768, 0.87599523, 0.87761579, 0.87940161]),\n",
       " 'split14_test_score': array([0.74983214, 0.7553301 , 0.78533256, 0.77706619, 0.77448965,\n",
       "        0.7217212 , 0.7691334 , 0.76804555, 0.77778632, 0.77871272]),\n",
       " 'split15_test_score': array([0.90578098, 0.91266135, 0.91902359, 0.90866183, 0.91899997,\n",
       "        0.91489094, 0.91286902, 0.91486356, 0.91838603, 0.92664624]),\n",
       " 'split16_test_score': array([0.86058111, 0.86082263, 0.88409095, 0.85923175, 0.86019398,\n",
       "        0.87100474, 0.86736436, 0.86503552, 0.87265548, 0.86381744]),\n",
       " 'split17_test_score': array([0.86022468, 0.89270407, 0.91376714, 0.86184193, 0.91175292,\n",
       "        0.87182584, 0.8736848 , 0.90807717, 0.91962842, 0.8559587 ]),\n",
       " 'split18_test_score': array([0.01358331, 0.09750394, 0.05213172, 0.05351082, 0.16032178,\n",
       "        0.1123832 , 0.07781916, 0.06257982, 0.06096741, 0.11216363]),\n",
       " 'split19_test_score': array([0.81134303, 0.80755631, 0.81917629, 0.80415219, 0.79843323,\n",
       "        0.8084754 , 0.81278561, 0.81469529, 0.80410158, 0.81753682]),\n",
       " 'split20_test_score': array([0.91284069, 0.91045655, 0.90912727, 0.90875259, 0.8970435 ,\n",
       "        0.90138192, 0.90967515, 0.89783224, 0.91292141, 0.90761105]),\n",
       " 'split21_test_score': array([0.75856205, 0.77118814, 0.77955344, 0.77189877, 0.77028326,\n",
       "        0.7646442 , 0.7660215 , 0.76878381, 0.77691489, 0.76555266]),\n",
       " 'split22_test_score': array([0.85273519, 0.88155456, 0.86591958, 0.87729299, 0.87015042,\n",
       "        0.86982881, 0.86205672, 0.87750059, 0.87605616, 0.86315483]),\n",
       " 'split23_test_score': array([0.60425125, 0.58260832, 0.58949405, 0.60484182, 0.55437627,\n",
       "        0.57071215, 0.57269388, 0.59127408, 0.56131143, 0.56487058]),\n",
       " 'split24_test_score': array([0.90239684, 0.89795272, 0.90011961, 0.89410923, 0.89636819,\n",
       "        0.8967364 , 0.89888605, 0.90361294, 0.90414391, 0.87883698]),\n",
       " 'split25_test_score': array([0.82969955, 0.83103806, 0.82587263, 0.83403302, 0.83341966,\n",
       "        0.81720518, 0.82971546, 0.8389277 , 0.82100273, 0.82254765]),\n",
       " 'split26_test_score': array([0.88813572, 0.88037708, 0.88124034, 0.88739241, 0.88822232,\n",
       "        0.880619  , 0.89259323, 0.89282313, 0.88483246, 0.896728  ]),\n",
       " 'split27_test_score': array([0.90109873, 0.90627437, 0.92029147, 0.89407973, 0.91084431,\n",
       "        0.8992514 , 0.90035485, 0.91621788, 0.91488948, 0.89046038]),\n",
       " 'split28_test_score': array([0.33139421, 0.38228391, 0.43977678, 0.33455925, 0.39493376,\n",
       "        0.35424994, 0.34428518, 0.4288454 , 0.44243289, 0.33511736]),\n",
       " 'split29_test_score': array([0.91964456, 0.91928352, 0.91780267, 0.91705002, 0.91307602,\n",
       "        0.91447286, 0.91343016, 0.91727857, 0.91951468, 0.91531731]),\n",
       " 'split30_test_score': array([0.85363393, 0.86302287, 0.85845453, 0.85089498, 0.86496055,\n",
       "        0.84668942, 0.85370186, 0.85744192, 0.85164308, 0.84136128]),\n",
       " 'split31_test_score': array([0.88533937, 0.88205257, 0.87571986, 0.88272483, 0.8736485 ,\n",
       "        0.87440647, 0.87525052, 0.88012815, 0.87728833, 0.88931918]),\n",
       " 'split32_test_score': array([0.67455273, 0.7273324 , 0.86438841, 0.69393345, 0.77611261,\n",
       "        0.7177481 , 0.70000424, 0.82010996, 0.85917711, 0.6852311 ]),\n",
       " 'split33_test_score': array([0.68643595, 0.68985582, 0.69037052, 0.705631  , 0.68856866,\n",
       "        0.70236549, 0.69932189, 0.68585773, 0.69292005, 0.68494433]),\n",
       " 'split34_test_score': array([0.88893752, 0.88005329, 0.89003572, 0.89494462, 0.88731911,\n",
       "        0.89318461, 0.88240152, 0.88926941, 0.8887669 , 0.88879955]),\n",
       " 'split35_test_score': array([0.86335055, 0.8700926 , 0.89606875, 0.87419296, 0.87788658,\n",
       "        0.87392191, 0.87499241, 0.8768621 , 0.87668655, 0.86015583]),\n",
       " 'split36_test_score': array([0.86710131, 0.87358308, 0.86395388, 0.86973753, 0.86644638,\n",
       "        0.8755664 , 0.86962741, 0.8691453 , 0.87848129, 0.87033297]),\n",
       " 'split37_test_score': array([0.88636004, 0.8733586 , 0.87526417, 0.87514762, 0.88453529,\n",
       "        0.87964158, 0.87648927, 0.87024807, 0.88466178, 0.86723755]),\n",
       " 'split38_test_score': array([0.89958897, 0.89613004, 0.90391657, 0.90059575, 0.90250359,\n",
       "        0.90333225, 0.88993661, 0.9102183 , 0.90888338, 0.88640508]),\n",
       " 'split39_test_score': array([0.09024317, 0.10435256, 0.16489659, 0.16509016, 0.07596841,\n",
       "        0.07701746, 0.05454991, 0.06279923, 0.16709223, 0.1894072 ]),\n",
       " 'mean_test_score': array([0.77580157, 0.78417742, 0.80099573, 0.78042634, 0.78906431,\n",
       "        0.78091222, 0.77659035, 0.79268764, 0.79965774, 0.77885691]),\n",
       " 'std_test_score': array([0.21091157, 0.19941588, 0.20285198, 0.20213298, 0.19851251,\n",
       "        0.20097936, 0.21117978, 0.20610374, 0.19568972, 0.19756319]),\n",
       " 'rank_test_score': array([10,  5,  1,  7,  4,  6,  9,  3,  2,  8], dtype=int32)}"
      ]
     },
     "execution_count": 24,
     "metadata": {},
     "output_type": "execute_result"
    }
   ],
   "source": [
    "Grid.cv_results_"
   ]
  },
  {
   "cell_type": "markdown",
   "metadata": {},
   "source": [
    "### Check the parameters of the best model"
   ]
  },
  {
   "cell_type": "code",
   "execution_count": 25,
   "metadata": {},
   "outputs": [
    {
     "data": {
      "text/plain": [
       "<bound method Pipeline.get_params of Pipeline(steps=[('preprocessor',\n",
       "                 ColumnTransformer(transformers=[('num',\n",
       "                                                  Pipeline(steps=[('imputer',\n",
       "                                                                   SimpleImputer(strategy='most_frequent')),\n",
       "                                                                  ('scaler',\n",
       "                                                                   StandardScaler())]),\n",
       "                                                  Index(['LotArea', 'OverallQual', '1stFlrSF', 'YearBuilt', 'YearRemodAdd',\n",
       "       'MasVnrArea', 'BsmtFinSF1', 'TotalBsmtSF', 'GrLivArea', 'FullBath',\n",
       "       'TotRmsAbvGrd', 'Fireplaces', 'GarageCars', 'GarageA...\n",
       "                                                                  ('onehot',\n",
       "                                                                   OneHotEncoder(handle_unknown='ignore'))]),\n",
       "                                                  Index(['MSZoning', 'LotShape', 'LandContour', 'Neighborhood', 'Condition1',\n",
       "       'Condition2', 'HouseStyle', 'RoofMatl', 'Exterior1st', 'Exterior2nd',\n",
       "       'ExterQual', 'BsmtQual', 'BsmtExposure', 'KitchenQual', 'Functional',\n",
       "       'SaleType', 'SaleCondition'],\n",
       "      dtype='object'))])),\n",
       "                ('regressor', LinearSVR(C=1.6, max_iter=2000.0, tol=0.1))])>"
      ]
     },
     "execution_count": 25,
     "metadata": {},
     "output_type": "execute_result"
    }
   ],
   "source": [
    "#check the parameters of the best model\n",
    "best_model.get_params"
   ]
  },
  {
   "cell_type": "markdown",
   "metadata": {},
   "source": [
    "## Results"
   ]
  },
  {
   "cell_type": "code",
   "execution_count": 26,
   "metadata": {},
   "outputs": [
    {
     "name": "stdout",
     "output_type": "stream",
     "text": [
      "Metrics of y_test prediction:\n",
      "MSE: 776375456.014459\n",
      "RMSE: 27863.51478213865\n",
      "R2: 0.8843513952480021\n"
     ]
    },
    {
     "data": {
      "image/png": "[encoded data removed]",
      "text/plain": [
       "<Figure size 720x432 with 1 Axes>"
      ]
     },
     "metadata": {
      "needs_background": "light"
     },
     "output_type": "display_data"
    }
   ],
   "source": [
    "y_pred_scaled = best_model.predict(X_test)\n",
    "y_pred = y_scaler.inverse_transform(y_pred_scaled.reshape(-1,1))\n",
    "y_test_real = y_scaler.inverse_transform(y_test.reshape(-1,1))\n",
    "y_test_real = y_test_real.ravel()\n",
    "\n",
    "# Show metrics\n",
    "print('Metrics of y_test prediction:')\n",
    "mse = mean_squared_error(y_test_real, y_pred.ravel())\n",
    "print(\"MSE:\", mse)\n",
    "rmse = np.sqrt(mse)\n",
    "print(\"RMSE:\", rmse)\n",
    "r2 = r2_score(y_test_real, y_pred.ravel())\n",
    "print(\"R2:\", r2)\n",
    "# Plot predicted vs actual\n",
    "\n",
    "\n",
    "\n",
    "fig = plt.figure(figsize = (10,6))\n",
    "plt.scatter(y_test_real.ravel(), y_pred.ravel())\n",
    "plt.xlabel(f'Actual')\n",
    "plt.ylabel(f'Predicted')\n",
    "plt.title('Predictions vs Actuals')\n",
    "z = np.polyfit(y_test_real.ravel(), y_pred.ravel(), 1)\n",
    "p = np.poly1d(z)\n",
    "plt.plot(y_test_real.ravel(), p(y_test_real.ravel()), color='magenta')\n",
    "plt.show()\n",
    "    "
   ]
  },
  {
   "cell_type": "code",
   "execution_count": null,
   "metadata": {},
   "outputs": [],
   "source": []
  }
 ],
 "metadata": {
  "kernelspec": {
   "display_name": "Python 3",
   "language": "python",
   "name": "python3"
  },
  "language_info": {
   "codemirror_mode": {
    "name": "ipython",
    "version": 3
   },
   "file_extension": ".py",
   "mimetype": "text/x-python",
   "name": "python",
   "nbconvert_exporter": "python",
   "pygments_lexer": "ipython3",
   "version": "3.8.5"
  },
  "toc": {
   "base_numbering": 1,
   "nav_menu": {},
   "number_sections": true,
   "sideBar": true,
   "skip_h1_title": true,
   "title_cell": "Table of Contents",
   "title_sidebar": "Contents",
   "toc_cell": true,
   "toc_position": {},
   "toc_section_display": true,
   "toc_window_display": true
  }
 },
 "nbformat": 4,
 "nbformat_minor": 4
}
